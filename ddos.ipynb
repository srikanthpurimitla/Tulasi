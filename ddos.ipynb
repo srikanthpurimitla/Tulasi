{
  "nbformat": 4,
  "nbformat_minor": 0,
  "metadata": {
    "colab": {
      "provenance": [],
      "authorship_tag": "ABX9TyNIspplz6pey1rlhwBO8P/F",
      "include_colab_link": true
    },
    "kernelspec": {
      "name": "python3",
      "display_name": "Python 3"
    },
    "language_info": {
      "name": "python"
    }
  },
  "cells": [
    {
      "cell_type": "markdown",
      "metadata": {
        "id": "view-in-github",
        "colab_type": "text"
      },
      "source": [
        "<a href=\"https://colab.research.google.com/github/srikanthpurimitla/Tulasi/blob/main/ddos.ipynb\" target=\"_parent\"><img src=\"https://colab.research.google.com/assets/colab-badge.svg\" alt=\"Open In Colab\"/></a>"
      ]
    },
    {
      "cell_type": "code",
      "execution_count": 26,
      "metadata": {
        "id": "P3r5FwYDfr_F"
      },
      "outputs": [],
      "source": [
        "import pandas as pd\n",
        "import numpy as np\n",
        "import matplotlib.pyplot as plt\n",
        "from sklearn.model_selection import train_test_split\n",
        "from sklearn.preprocessing import LabelEncoder, StandardScaler\n",
        "from sklearn.svm import SVC\n",
        "from sklearn.ensemble import RandomForestClassifier\n",
        "from sklearn.metrics import accuracy_score, classification_report\n",
        "\n",
        "\n"
      ]
    },
    {
      "cell_type": "code",
      "source": [
        "# Load datasets\n",
        "train_df = pd.read_csv(\"/content/kdd_train (1).csv\")\n",
        "test_df = pd.read_csv(\"/content/kdd_test (1).csv\")\n",
        "\n"
      ],
      "metadata": {
        "id": "npRQmtGaf3Aw"
      },
      "execution_count": 27,
      "outputs": []
    },
    {
      "cell_type": "code",
      "source": [
        "from google.colab import drive\n",
        "drive.mount('/content/drive')"
      ],
      "metadata": {
        "id": "yAK4k5BDo9FC"
      },
      "execution_count": null,
      "outputs": []
    },
    {
      "cell_type": "code",
      "source": [
        "# prompt: find the unique values in hello.txt\n",
        "\n",
        "# Assuming 'hello.txt' is in the current working directory\n",
        "with open('hello.txt', 'r') as file:\n",
        "    lines = file.readlines()\n",
        "\n",
        "unique_lines = set(lines)\n",
        "for line in unique_lines:\n",
        "    print(line.strip()) # .strip() removes leading/trailing whitespace\n"
      ],
      "metadata": {
        "colab": {
          "base_uri": "https://localhost:8080/",
          "height": 0
        },
        "id": "0jmYQHhZjSsW",
        "outputId": "0b9a811d-7c4a-4639-bbea-b7108b4e4239"
      },
      "execution_count": 28,
      "outputs": [
        {
          "output_type": "stream",
          "name": "stdout",
          "text": [
            "teardrop\n",
            "pod\n",
            "rootkit\n",
            "warezmaster\n",
            "neptune\n",
            "warezclient\n",
            "multihop\n",
            "land\n",
            "guess_passwd\n",
            "loadmodule\n",
            "normal\n",
            "perl\n",
            "nmap\n",
            "ipsweep\n",
            "portsweep\n",
            "smurf\n",
            "labels\n",
            "imap\n",
            "back\n",
            "buffer_overflow\n",
            "phf\n",
            "ftp_write\n",
            "satan\n",
            "spy\n"
          ]
        }
      ]
    },
    {
      "cell_type": "code",
      "source": [
        "# Define attack categories\n",
        "attack_labels = [\"teardrop\", \"pod\", \"rootkit\", \"warezmaster\", \"neptune\", \"warezclient\", \"multihop\", \"land\",\n",
        "                 \"guess_passwd\", \"loadmodule\", \"perl\", \"nmap\", \"ipsweep\", \"portsweep\", \"smurf\", \"imap\",\n",
        "                 \"back\", \"buffer_overflow\", \"phf\", \"ftp_write\", \"satan\", \"spy\"]"
      ],
      "metadata": {
        "id": "YZWH4xJpga1C"
      },
      "execution_count": 29,
      "outputs": []
    },
    {
      "cell_type": "code",
      "source": [
        "# Convert labels to binary (0 = normal, 1 = attack)\n",
        "train_df['labels'] = train_df['labels'].apply(lambda x: 1 if x in attack_labels else 0)\n",
        "test_df['labels'] = test_df['labels'].apply(lambda x: 1 if x in attack_labels else 0)\n"
      ],
      "metadata": {
        "id": "LGriGLU-gg32"
      },
      "execution_count": 30,
      "outputs": []
    },
    {
      "cell_type": "code",
      "source": [
        "# Encode categorical columns\n",
        "label_encoder = LabelEncoder()\n",
        "categorical_columns = ['protocol_type', 'service', 'flag']\n",
        "for col in categorical_columns:\n",
        "    train_df[col] = label_encoder.fit_transform(train_df[col])\n",
        "    test_df[col] = label_encoder.transform(test_df[col])\n"
      ],
      "metadata": {
        "id": "Y263gyGZh4dl"
      },
      "execution_count": 31,
      "outputs": []
    },
    {
      "cell_type": "code",
      "source": [
        "# Define features and labels\n",
        "X_train = train_df.drop(columns=['labels'])\n",
        "y_train = train_df['labels']\n",
        "X_test = test_df.drop(columns=['labels'])\n",
        "y_test = test_df['labels']"
      ],
      "metadata": {
        "id": "RJJDQBsph8JA"
      },
      "execution_count": 32,
      "outputs": []
    },
    {
      "cell_type": "code",
      "source": [
        "# Normalize the data\n",
        "scaler = StandardScaler()\n",
        "X_train = scaler.fit_transform(X_train)\n",
        "X_test = scaler.transform(X_test)\n"
      ],
      "metadata": {
        "id": "w6tY5nZuh_BW"
      },
      "execution_count": 33,
      "outputs": []
    },
    {
      "cell_type": "code",
      "source": [
        "# Train SVM model\n",
        "svm_model = SVC(kernel='rbf')\n",
        "# Check for unique labels in y_train before fitting the model\n",
        "unique_labels = np.unique(y_train)\n",
        "if len(unique_labels) < 2:\n",
        "    raise ValueError(f\"y_train contains only one class: {unique_labels}. SVM requires at least two classes for training.\")\n",
        "# Proceed with model fitting if there are at least two classes\n",
        "svm_model.fit(X_train, y_train)\n",
        "y_pred_svm = svm_model.predict(X_test)\n",
        "svm_accuracy = accuracy_score(y_test, y_pred_svm)\n",
        "print(\"SVM Accuracy:\", svm_accuracy)"
      ],
      "metadata": {
        "colab": {
          "base_uri": "https://localhost:8080/",
          "height": 0
        },
        "id": "H60SoLo7iftO",
        "outputId": "2b331296-250f-4768-f1dd-a0c9103f5f2d"
      },
      "execution_count": 34,
      "outputs": [
        {
          "output_type": "stream",
          "name": "stdout",
          "text": [
            "SVM Accuracy: 0.9408268275372604\n"
          ]
        }
      ]
    },
    {
      "cell_type": "code",
      "source": [
        "# Train Random Forest model\n",
        "rf_model = RandomForestClassifier(n_estimators=100, random_state=42)\n",
        "rf_model.fit(X_train, y_train)\n",
        "y_pred_rf = rf_model.predict(X_test)\n",
        "rf_accuracy = accuracy_score(y_test, y_pred_rf)\n",
        "print(\"Random Forest Accuracy:\", rf_accuracy)\n"
      ],
      "metadata": {
        "colab": {
          "base_uri": "https://localhost:8080/",
          "height": 0
        },
        "id": "jOAeXuanipTv",
        "outputId": "6b46731d-86a5-47e0-8f27-d0145ad4a26f"
      },
      "execution_count": 35,
      "outputs": [
        {
          "output_type": "stream",
          "name": "stdout",
          "text": [
            "Random Forest Accuracy: 0.9525372604684174\n"
          ]
        }
      ]
    },
    {
      "cell_type": "code",
      "source": [
        "# Hybrid model: Using majority voting\n",
        "hybrid_pred = np.where((y_pred_svm == y_pred_rf), y_pred_svm, y_pred_rf)\n",
        "hybrid_accuracy = accuracy_score(y_test, hybrid_pred)\n",
        "print(\"Hybrid Model Accuracy:\", hybrid_accuracy)"
      ],
      "metadata": {
        "colab": {
          "base_uri": "https://localhost:8080/",
          "height": 0
        },
        "id": "-2dYQOVuirzn",
        "outputId": "b72c5b66-ce31-4f8b-d62b-6bdbae46e77a"
      },
      "execution_count": 36,
      "outputs": [
        {
          "output_type": "stream",
          "name": "stdout",
          "text": [
            "Hybrid Model Accuracy: 0.9525372604684174\n"
          ]
        }
      ]
    },
    {
      "cell_type": "code",
      "source": [
        "# Count attack vs. non-attack instances\n",
        "attack_count = np.sum(hybrid_pred == 1)\n",
        "normal_count = np.sum(hybrid_pred == 0)\n",
        "\n",
        "data_labels = ['Normal', 'Attack']\n",
        "data_values = [normal_count, attack_count]\n"
      ],
      "metadata": {
        "id": "M5ayWtsNis4J"
      },
      "execution_count": 38,
      "outputs": []
    },
    {
      "cell_type": "code",
      "source": [
        "# Visualization\n",
        "plt.figure(figsize=(7, 5))\n",
        "plt.pie(data_values, labels=data_labels, autopct='%1.1f%%', colors=['green', 'red'], startangle=140)\n",
        "plt.title(\"Attack vs. Normal Traffic Distribution\")\n",
        "plt.show()"
      ],
      "metadata": {
        "colab": {
          "base_uri": "https://localhost:8080/",
          "height": 444
        },
        "id": "dOaXkZ-0mnC0",
        "outputId": "09c0c924-93ad-45a0-de68-572129a8301e"
      },
      "execution_count": 39,
      "outputs": [
        {
          "output_type": "display_data",
          "data": {
            "text/plain": [
              "<Figure size 700x500 with 1 Axes>"
            ],
            "image/png": "[encoded data removed]"
          },
          "metadata": {}
        }
      ]
    },
    {
      "cell_type": "code",
      "source": [
        "# Count occurrences of each attack type\n",
        "attack_counts = test_df['labels'].value_counts()"
      ],
      "metadata": {
        "id": "vA5IsYCwmusK"
      },
      "execution_count": 40,
      "outputs": []
    },
    {
      "cell_type": "code",
      "source": [
        "# Visualization of attack distribution\n",
        "plt.figure(figsize=(10, 6))\n",
        "plt.bar(attack_counts.index, attack_counts.values, color='red')\n",
        "plt.xlabel(\"Attack Types\")\n",
        "plt.ylabel(\"Count\")\n",
        "plt.title(\"Distribution of Different Attack Types in Test Dataset\")\n",
        "plt.xticks(rotation=90)\n",
        "plt.show()\n"
      ],
      "metadata": {
        "colab": {
          "base_uri": "https://localhost:8080/",
          "height": 592
        },
        "id": "etwXQ4jxm-h5",
        "outputId": "cb834c01-4761-44ad-927e-23e494b109b6"
      },
      "execution_count": 41,
      "outputs": [
        {
          "output_type": "display_data",
          "data": {
            "text/plain": [
              "<Figure size 1000x600 with 1 Axes>"
            ],
            "image/png": "[encoded data removed]"
          },
          "metadata": {}
        }
      ]
    },
    {
      "cell_type": "code",
      "source": [
        "\n"
      ],
      "metadata": {
        "id": "uO2erJx8nBlR"
      },
      "execution_count": 43,
      "outputs": []
    }
  ]
}